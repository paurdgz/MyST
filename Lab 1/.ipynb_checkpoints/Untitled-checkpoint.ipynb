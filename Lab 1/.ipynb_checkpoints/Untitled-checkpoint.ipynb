{
 "cells": [
  {
   "cell_type": "markdown",
   "metadata": {},
   "source": [
    "# Reto para laboratorio 1: Administración activa Vs Administración pasiva del capital.\n",
    "\n",
    "    \n",
    "## Equipo E\n",
    "\n",
    "### Integrantes:\n",
    "\n",
    "Ana Paula Rangel Ochoa\n",
    "\n",
    "Paulina Rodriguez Guerrero\n",
    "\n",
    "José Luis Suárez de Alba\n",
    "\n",
    "Diego Velasco Sanchez\n",
    "\n",
    "\n",
    "\n",
    "### Situación:\n",
    "\n",
    "   Acabas de entrar a trabajar a una operadora de fondos de inversión como analista financiero dentro de la mesa de análisis del mercado de renta variable. En la junta trimestral se plantea la posibilidad de crear un fondo propio con exposición al mercado de valores de USA tratando de replicar a los ETFs conocidos como ishares que la empresa BlackRock ofrece.\n",
    "\n",
    "   La idea es replicar un ETF con posiciones en directo. Te han asignado la tarea de hacer un ejercicio simple de replicar la construcción de un portafolio de inversión y un criterio de rebalanceo lo más parecido a un ETF de ishares que tu selecciones. Esto con la finalidad de comparar los resultados de haber rebanceado periódicamente el portafolio, ó, no haberlo hecho y continuar todo un año con las mismas posiciones.\n",
    "    \n",
    "### Caracteristicas:\n",
    "\n",
    "   Debido a tu formación, te piden que este proceso que construyas sea repetible para cualquier ETF y también incluir 3 medidas de atribución al desempeño, tanto para el caso que el ETF nunca hubiese sido rebalanceado como para los casos donde sí.\n",
    "\n",
    "   En la mesa de análisis están interesados en conocer el proceso que sigues para adquirir, limpiar, dar formato y utilizar los datos, y a pesar que el equipo senior de análisis está compuesto por personal altamente calificado en temas de economía y finanzas, ellos no saben programar por lo que te piden que incluyas el código utilizado, y que sea de manera ordenada y explicando el sentido de las funciones y paqueterías que requeriste.\n",
    "   \n",
    "   * Comparar con 1 año de información: 1.3.17 al 1.3.18.\n",
    "\n",
    "   * Utilizar un ETF de Ishares para el mercado de renta varialbe de USA.\n",
    "\n",
    "   * Entregar un Jupyter Notebook con explicación y comentarios en el código.\n",
    "\n",
    "   * Crear y actualizar continuamente un repositorio en GitHub para el proyecto.\n",
    "    \n",
    "    \n",
    "\n",
    "\n",
    "https://www.quandl.com/search?filters=%5B%22Mutual%20Funds%20%26%20ETFs%22%2C%22Free%22%2C%22United%20States%22%5D"
   ]
  },
  {
   "cell_type": "markdown",
   "metadata": {},
   "source": [
    "## ETF \n",
    "\n",
    "https://www.ishares.com/us/products/239774/ishares-core-sp-smallcap-etf\n",
    "\n",
    "Obtener los rendimientos mensuales sacar la desviación estándar para tener la volatilidad de esta es diaria entonces es la desviación de los rendimientos diarios tenemos 12 meses, pero no se modifican ni el primero ni el ultimo con el peso calculamos la varianza desviación de cada mes usando la desviación de los diarios\n",
    "1.\tDescargar los datos mensuales de un año.\n",
    "2.\tRendimientos diarios y la desv estandar y el sharp (tasa libre de riesgo usa, treasury hold).\n",
    "3.\tNet asset value diario es l NAV (el precio diario de tu ETF) este sirve para sacar la volatilidad y ver si hubo picos si no hay está muy tranquilo (rendimientos diarios por los pesos mensuales para sacar el diario) --> de los 13 archivos.\n",
    "4.\tHacer 11 escenarios diferentes para ver cual habría sido la mejor situación.\n",
    " \n",
    "Escenarios\n",
    " * Todo el año con los primeros pesos.\n",
    " * Rebalancear igual que el ETF.\n",
    " * Rebalancear cada mes."
   ]
  },
  {
   "cell_type": "markdown",
   "metadata": {},
   "source": [
    "### Importar librerias"
   ]
  },
  {
   "cell_type": "code",
   "execution_count": 1,
   "metadata": {},
   "outputs": [],
   "source": [
    "#pip install xlrd\n",
    "#pip install xlwt\n",
    "#pip install quandl\n",
    "import quandl\n",
    "import numpy as np\n",
    "import pandas as pd\n",
    "import scipy.stats as stats\n",
    "import matplotlib.pyplot as plt\n",
    "import datetime as dt"
   ]
  },
  {
   "cell_type": "code",
   "execution_count": null,
   "metadata": {},
   "outputs": [],
   "source": []
  }
 ],
 "metadata": {
  "kernelspec": {
   "display_name": "Python 3",
   "language": "python",
   "name": "python3"
  },
  "language_info": {
   "codemirror_mode": {
    "name": "ipython",
    "version": 3
   },
   "file_extension": ".py",
   "mimetype": "text/x-python",
   "name": "python",
   "nbconvert_exporter": "python",
   "pygments_lexer": "ipython3",
   "version": "3.6.4"
  }
 },
 "nbformat": 4,
 "nbformat_minor": 2
}
